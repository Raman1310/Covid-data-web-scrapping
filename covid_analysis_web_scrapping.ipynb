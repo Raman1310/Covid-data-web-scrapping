{
  "nbformat": 4,
  "nbformat_minor": 0,
  "metadata": {
    "colab": {
      "name": "covid analysis web scrapping.ipynb",
      "provenance": [],
      "mount_file_id": "1kaa3a8JKZzU4J9mBpH1a9uy-Ov3Vqs7c",
      "authorship_tag": "ABX9TyOLCgQZhmLTpz2CxMwhASur",
      "include_colab_link": true
    },
    "kernelspec": {
      "display_name": "Python 3",
      "name": "python3"
    },
    "language_info": {
      "name": "python"
    }
  },
  "cells": [
    {
      "cell_type": "markdown",
      "metadata": {
        "id": "view-in-github",
        "colab_type": "text"
      },
      "source": [
        "<a href=\"https://colab.research.google.com/github/Raman1310/Project1/blob/main/covid_analysis_web_scrapping.ipynb\" target=\"_parent\"><img src=\"https://colab.research.google.com/assets/colab-badge.svg\" alt=\"Open In Colab\"/></a>"
      ]
    },
    {
      "cell_type": "code",
      "metadata": {
        "id": "vyPYS50UpCEM"
      },
      "source": [
        "import pandas as pd #software library used for data manipulation and analysis\n",
        "import numpy as np #Fast mathematical operations over arrays\n"
      ],
      "execution_count": 47,
      "outputs": []
    },
    {
      "cell_type": "code",
      "metadata": {
        "colab": {
          "base_uri": "https://localhost:8080/"
        },
        "id": "4o-uWpGJ-XYr",
        "outputId": "61b9c503-1e67-4206-c1cf-d652fbbf8e0e"
      },
      "source": [
        " #used for webscrapping\n",
        "!pip install selenium\n",
        "!apt-get update\n",
        "!apt install chromium-chromedriver\n",
        "!cp /usr/lib/chromium-browser/chromedriver /usr/bin"
      ],
      "execution_count": 48,
      "outputs": [
        {
          "output_type": "stream",
          "text": [
            "Requirement already satisfied: selenium in /usr/local/lib/python3.7/dist-packages (3.141.0)\n",
            "Requirement already satisfied: urllib3 in /usr/local/lib/python3.7/dist-packages (from selenium) (1.24.3)\n",
            "Hit:1 http://security.ubuntu.com/ubuntu bionic-security InRelease\n",
            "Hit:2 https://cloud.r-project.org/bin/linux/ubuntu bionic-cran40/ InRelease\n",
            "Ign:3 https://developer.download.nvidia.com/compute/cuda/repos/ubuntu1804/x86_64  InRelease\n",
            "Hit:4 http://ppa.launchpad.net/c2d4u.team/c2d4u4.0+/ubuntu bionic InRelease\n",
            "Hit:5 http://archive.ubuntu.com/ubuntu bionic InRelease\n",
            "Ign:6 https://developer.download.nvidia.com/compute/machine-learning/repos/ubuntu1804/x86_64  InRelease\n",
            "Hit:7 https://developer.download.nvidia.com/compute/cuda/repos/ubuntu1804/x86_64  Release\n",
            "Hit:8 https://developer.download.nvidia.com/compute/machine-learning/repos/ubuntu1804/x86_64  Release\n",
            "Hit:9 http://archive.ubuntu.com/ubuntu bionic-updates InRelease\n",
            "Hit:10 http://ppa.launchpad.net/cran/libgit2/ubuntu bionic InRelease\n",
            "Hit:11 http://archive.ubuntu.com/ubuntu bionic-backports InRelease\n",
            "Hit:12 http://ppa.launchpad.net/deadsnakes/ppa/ubuntu bionic InRelease\n",
            "Hit:13 http://ppa.launchpad.net/graphics-drivers/ppa/ubuntu bionic InRelease\n",
            "Reading package lists... Done\n",
            "Reading package lists... Done\n",
            "Building dependency tree       \n",
            "Reading state information... Done\n",
            "chromium-chromedriver is already the newest version (92.0.4515.159-0ubuntu0.18.04.1).\n",
            "The following package was automatically installed and is no longer required:\n",
            "  libnvidia-common-460\n",
            "Use 'apt autoremove' to remove it.\n",
            "0 upgraded, 0 newly installed, 0 to remove and 50 not upgraded.\n",
            "cp: '/usr/lib/chromium-browser/chromedriver' and '/usr/bin/chromedriver' are the same file\n"
          ],
          "name": "stdout"
        }
      ]
    },
    {
      "cell_type": "code",
      "metadata": {
        "id": "6xmoDx8Y-mio"
      },
      "source": [
        "def update_covid(link):\n",
        "  import sys  #system-specific parameters and functions\n",
        "  import pandas as pd\n",
        "  # used fetch the data from the chrome driver\n",
        "  sys.path.insert(0,'/usr/lib/chromium-browser/chromedriver')\n",
        "  from selenium import webdriver\n",
        "  chrome_options = webdriver.ChromeOptions()\n",
        "  chrome_options.add_argument('--headless')\n",
        "  chrome_options.add_argument('--no-sandbox')\n",
        "  chrome_options.add_argument('--disable-dev-shm-usage')\n",
        "  wd = webdriver.Chrome('chromedriver',chrome_options=chrome_options)\n",
        "  wd.get(data)\n",
        "  # identify elements with tagname <a>\n",
        "  lnks=wd.find_elements_by_tag_name(\"a\")\n",
        "  for lnk in lnks:\n",
        "    x=lnk.get_attribute(\"href\") # get_attribute() to get all href\n",
        "    \n",
        "    if x.find(\"https://www.mohfw.gov.in/pdf/COVID19DistrictWisePositivity\") != -1:\n",
        "        file_path=x\n",
        "        break\n",
        "  wd.quit()\n",
        "  xfiles=pd.read_excel(file_path) # reading excel file path\n",
        "  df=xfiles.iloc[:,15:].T # spliting from 15th column\n",
        "  df=df.loc[:,9:] # spliting from 9th row\n",
        "  df=df.T\n",
        "  col=df.iloc[0]\n",
        "  df.columns=col\n",
        "  df=df[1:]\n",
        "  df['State'].fillna(method='ffill',inplace=True) # filling the nan values as before value\n",
        "  df['District'].fillna('Total',inplace=True) # filling the nan values as total\n",
        "  df=df.reset_index() # resetting the index value\n",
        "  df.drop(['index'],axis=1, inplace=True) # drop the index value\n",
        "  df['S.No'].fillna('Total',inplace=True) # filling the nan values as total\n",
        "  return df"
      ],
      "execution_count": 57,
      "outputs": []
    },
    {
      "cell_type": "code",
      "metadata": {
        "colab": {
          "base_uri": "https://localhost:8080/"
        },
        "id": "mOZ4wFOu-t0Z",
        "outputId": "a6c8e915-780e-4b5c-948f-4029981a1bf7"
      },
      "source": [
        "data=\"https://www.mohfw.gov.in/\" # read the url\n",
        "\n",
        "data=update_covid(data) # pushing the data to the function"
      ],
      "execution_count": 58,
      "outputs": [
        {
          "output_type": "stream",
          "text": [
            "/usr/local/lib/python3.7/dist-packages/ipykernel_launcher.py:11: DeprecationWarning: use options instead of chrome_options\n",
            "  # This is added back by InteractiveShellApp.init_path()\n"
          ],
          "name": "stderr"
        }
      ]
    },
    {
      "cell_type": "code",
      "metadata": {
        "colab": {
          "base_uri": "https://localhost:8080/",
          "height": 491
        },
        "id": "XqcWH0md-xPf",
        "outputId": "ccbf86f3-5d22-49a3-ce1a-1efe8907e92c"
      },
      "source": [
        "data"
      ],
      "execution_count": 59,
      "outputs": [
        {
          "output_type": "execute_result",
          "data": {
            "text/html": [
              "<div>\n",
              "<style scoped>\n",
              "    .dataframe tbody tr th:only-of-type {\n",
              "        vertical-align: middle;\n",
              "    }\n",
              "\n",
              "    .dataframe tbody tr th {\n",
              "        vertical-align: top;\n",
              "    }\n",
              "\n",
              "    .dataframe thead th {\n",
              "        text-align: right;\n",
              "    }\n",
              "</style>\n",
              "<table border=\"1\" class=\"dataframe\">\n",
              "  <thead>\n",
              "    <tr style=\"text-align: right;\">\n",
              "      <th>9</th>\n",
              "      <th>S.No</th>\n",
              "      <th>State</th>\n",
              "      <th>District</th>\n",
              "      <th>% Contribution of Testing by RAT</th>\n",
              "      <th>% Contribution of Testing by RTPCR</th>\n",
              "      <th>Positivity</th>\n",
              "    </tr>\n",
              "  </thead>\n",
              "  <tbody>\n",
              "    <tr>\n",
              "      <th>0</th>\n",
              "      <td>1</td>\n",
              "      <td>ANDAMAN AND NICOBAR ISLANDS</td>\n",
              "      <td>SOUTH ANDAMANS</td>\n",
              "      <td>62</td>\n",
              "      <td>38</td>\n",
              "      <td>0.1</td>\n",
              "    </tr>\n",
              "    <tr>\n",
              "      <th>1</th>\n",
              "      <td>2</td>\n",
              "      <td>ANDAMAN AND NICOBAR ISLANDS</td>\n",
              "      <td>NICOBARS</td>\n",
              "      <td>31</td>\n",
              "      <td>69</td>\n",
              "      <td>0</td>\n",
              "    </tr>\n",
              "    <tr>\n",
              "      <th>2</th>\n",
              "      <td>3</td>\n",
              "      <td>ANDAMAN AND NICOBAR ISLANDS</td>\n",
              "      <td>NORTH AND MIDDLE ANDAMAN</td>\n",
              "      <td>13</td>\n",
              "      <td>87</td>\n",
              "      <td>0</td>\n",
              "    </tr>\n",
              "    <tr>\n",
              "      <th>3</th>\n",
              "      <td>4</td>\n",
              "      <td>ANDHRA PRADESH</td>\n",
              "      <td>EAST GODAVARI</td>\n",
              "      <td>3</td>\n",
              "      <td>97</td>\n",
              "      <td>4.42</td>\n",
              "    </tr>\n",
              "    <tr>\n",
              "      <th>4</th>\n",
              "      <td>5</td>\n",
              "      <td>ANDHRA PRADESH</td>\n",
              "      <td>WEST GODAVARI</td>\n",
              "      <td>4</td>\n",
              "      <td>96</td>\n",
              "      <td>3.95</td>\n",
              "    </tr>\n",
              "    <tr>\n",
              "      <th>...</th>\n",
              "      <td>...</td>\n",
              "      <td>...</td>\n",
              "      <td>...</td>\n",
              "      <td>...</td>\n",
              "      <td>...</td>\n",
              "      <td>...</td>\n",
              "    </tr>\n",
              "    <tr>\n",
              "      <th>651</th>\n",
              "      <td>652</td>\n",
              "      <td>WEST BENGAL</td>\n",
              "      <td>DINAJPUR UTTAR</td>\n",
              "      <td>63</td>\n",
              "      <td>37</td>\n",
              "      <td>0.4</td>\n",
              "    </tr>\n",
              "    <tr>\n",
              "      <th>652</th>\n",
              "      <td>653</td>\n",
              "      <td>WEST BENGAL</td>\n",
              "      <td>DINAJPUR DAKSHIN</td>\n",
              "      <td>64</td>\n",
              "      <td>36</td>\n",
              "      <td>0.38</td>\n",
              "    </tr>\n",
              "    <tr>\n",
              "      <th>653</th>\n",
              "      <td>654</td>\n",
              "      <td>WEST BENGAL</td>\n",
              "      <td>PURULIA</td>\n",
              "      <td>51</td>\n",
              "      <td>49</td>\n",
              "      <td>0.34</td>\n",
              "    </tr>\n",
              "    <tr>\n",
              "      <th>654</th>\n",
              "      <td>655</td>\n",
              "      <td>WEST BENGAL</td>\n",
              "      <td>MURSHIDABAD</td>\n",
              "      <td>54</td>\n",
              "      <td>46</td>\n",
              "      <td>0.21</td>\n",
              "    </tr>\n",
              "    <tr>\n",
              "      <th>655</th>\n",
              "      <td>Total</td>\n",
              "      <td>Grand Total</td>\n",
              "      <td>Total</td>\n",
              "      <td>45</td>\n",
              "      <td>55</td>\n",
              "      <td>2.76</td>\n",
              "    </tr>\n",
              "  </tbody>\n",
              "</table>\n",
              "<p>656 rows × 6 columns</p>\n",
              "</div>"
            ],
            "text/plain": [
              "9     S.No  ... Positivity\n",
              "0        1  ...        0.1\n",
              "1        2  ...          0\n",
              "2        3  ...          0\n",
              "3        4  ...       4.42\n",
              "4        5  ...       3.95\n",
              "..     ...  ...        ...\n",
              "651    652  ...        0.4\n",
              "652    653  ...       0.38\n",
              "653    654  ...       0.34\n",
              "654    655  ...       0.21\n",
              "655  Total  ...       2.76\n",
              "\n",
              "[656 rows x 6 columns]"
            ]
          },
          "metadata": {},
          "execution_count": 59
        }
      ]
    },
    {
      "cell_type": "code",
      "metadata": {
        "colab": {
          "base_uri": "https://localhost:8080/"
        },
        "id": "_uvhaS3g_b9g",
        "outputId": "d28398fc-40d0-45d4-a374-1f0251fef4ed"
      },
      "source": [
        "data.info"
      ],
      "execution_count": 60,
      "outputs": [
        {
          "output_type": "execute_result",
          "data": {
            "text/plain": [
              "<bound method DataFrame.info of 9     S.No  ... Positivity\n",
              "0        1  ...        0.1\n",
              "1        2  ...          0\n",
              "2        3  ...          0\n",
              "3        4  ...       4.42\n",
              "4        5  ...       3.95\n",
              "..     ...  ...        ...\n",
              "651    652  ...        0.4\n",
              "652    653  ...       0.38\n",
              "653    654  ...       0.34\n",
              "654    655  ...       0.21\n",
              "655  Total  ...       2.76\n",
              "\n",
              "[656 rows x 6 columns]>"
            ]
          },
          "metadata": {},
          "execution_count": 60
        }
      ]
    },
    {
      "cell_type": "code",
      "metadata": {
        "id": "Z2Cl1RcZKX4a"
      },
      "source": [
        "data.to_excel('Welcome.xlsx')"
      ],
      "execution_count": 61,
      "outputs": []
    }
  ]
}